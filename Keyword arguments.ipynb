{
 "cells": [
  {
   "cell_type": "markdown",
   "id": "166ebcfa",
   "metadata": {},
   "source": [
    "# Keyword arguments examples"
   ]
  },
  {
   "cell_type": "code",
   "execution_count": 37,
   "id": "3a50add3",
   "metadata": {},
   "outputs": [
    {
     "name": "stdout",
     "output_type": "stream",
     "text": [
      "-- This parrot wouldn't voom if you put *a thousand volts through it.\n",
      "-- Lovely plumage, the Norwegian Blue\n",
      "-- It's *pushing up the daisies !\n",
      "-- This parrot wouldn't voom if you put 1000 volts through it.\n",
      "-- Lovely plumage, the Norwegian Blue\n",
      "-- It's a stiff !\n",
      "-- This parrot wouldn't VOOOOOM if you put 1000000 volts through it.\n",
      "-- Lovely plumage, the Norwegian Blue\n",
      "-- It's a stiff !\n",
      "-- This parrot wouldn't VOOOOOM if you put 1000000 volts through it.\n",
      "-- Lovely plumage, the Norwegian Blue\n",
      "-- It's a stiff !\n",
      "-- This parrot wouldn't jump if you put a million volts through it.\n",
      "-- Lovely plumage, the Norwegian Blue\n",
      "-- It's bereft of life !\n",
      "-- This parrot wouldn't voom if you put a thousand volts through it.\n",
      "-- Lovely plumage, the Norwegian Blue\n",
      "-- It's pushing up the daisies !\n"
     ]
    }
   ],
   "source": [
    "def parrot(  voltage, state='a stiff', action='voom',type='Norwegian Blue'):\n",
    "    print(\"-- This parrot wouldn't\", action, end=' ')\n",
    "    print(\"if you put\", voltage, \"volts through it.\")\n",
    "    print(\"-- Lovely plumage, the\", type)\n",
    "    print(\"-- It's\", state, \"!\")\n",
    "    \n",
    "    \n",
    "parrot('*a thousand', state='*pushing up the daisies') # 1 positional, 1 keyword\n",
    "parrot(voltage=1000) # 1 keyword argument\n",
    "parrot(voltage=1000000, action='VOOOOOM') # 2 keyword arguments\n",
    "parrot(action='VOOOOOM', voltage=1000000) # 2 keyword arguments\n",
    "parrot('a million', 'bereft of life', 'jump') # 3 positional arguments\n",
    "parrot('a thousand', state='pushing up the daisies') # 1 positional, 1 keyword"
   ]
  },
  {
   "cell_type": "code",
   "execution_count": 53,
   "id": "d64907c2",
   "metadata": {},
   "outputs": [
    {
     "name": "stdout",
     "output_type": "stream",
     "text": [
      "-- Do you have any Limburger ?\n",
      "-- I'm sorry, we're all out of Limburger\n",
      "It's very runny, sir.\n",
      "It's really very, VERY runny, sir\n",
      "----------------------------------------\n",
      "client : John Cleese\n",
      "shopkeeper : Michael Palin\n",
      "sketch : Cheese Shop Sketch\n"
     ]
    }
   ],
   "source": [
    "def cheeseshop(kind, *arguments, **keywords):\n",
    "    print(\"-- Do you have any\", kind, \"?\")\n",
    "    print(\"-- I'm sorry, we're all out of\", kind)\n",
    "    for arg in arguments:\n",
    "        print(arg)\n",
    "    print(\"-\" * 40)\n",
    "    keys = sorted(keywords.keys())\n",
    "    for kw in keys:\n",
    "        print(kw, \":\", keywords[kw])\n",
    "        \n",
    "cheeseshop(\"Limburger\", \"It's very runny, sir.\", \"It's really very, VERY runny, sir\",\n",
    " shopkeeper=\"Michael Palin\",\n",
    " client=\"John Cleese\",\n",
    " sketch=\"Cheese Shop Sketch\")"
   ]
  },
  {
   "cell_type": "code",
   "execution_count": 55,
   "id": "7f8e13ba",
   "metadata": {},
   "outputs": [
    {
     "name": "stdout",
     "output_type": "stream",
     "text": [
      "15\n"
     ]
    }
   ],
   "source": [
    "def addition(*args):\n",
    "   result = 0\n",
    "   for i in args:\n",
    "      result += i\n",
    "   return result\n",
    "print(addition(3, 5, 1,2,4))"
   ]
  },
  {
   "cell_type": "code",
   "execution_count": 60,
   "id": "9fd15b49",
   "metadata": {},
   "outputs": [
    {
     "name": "stdout",
     "output_type": "stream",
     "text": [
      "Hi\n",
      "first == Hi\n",
      "mid == Hello\n",
      "last == Hola\n"
     ]
    }
   ],
   "source": [
    "def myFun(arg1, **kwar):\n",
    "    print( arg1)\n",
    "    for key, value in kwar.items():\n",
    "        print (\"%s == %s\" %(key, value))\n",
    " \n",
    "myFun(\"Hi\", first ='Hi', mid ='Hello', last='Hola')"
   ]
  },
  {
   "cell_type": "code",
   "execution_count": 61,
   "id": "b5f61d28",
   "metadata": {},
   "outputs": [
    {
     "name": "stdout",
     "output_type": "stream",
     "text": [
      "args:  ('Hi', 'Hello', 'Hola')\n",
      "kwargs:  {'first': 'Hi', 'mid': 'Hello', 'last': 'Hola'}\n"
     ]
    }
   ],
   "source": [
    "def myFun(*args,**kwargs):\n",
    "    print(\"args: \", args)\n",
    "    print(\"kwargs: \", kwargs)\n",
    " \n",
    "\n",
    "myFun('Hi','Hello','Hola',first=\"Hi\",mid=\"Hello\",last=\"Hola\")"
   ]
  },
  {
   "cell_type": "code",
   "execution_count": null,
   "id": "8a7f6bf8",
   "metadata": {},
   "outputs": [],
   "source": []
  }
 ],
 "metadata": {
  "kernelspec": {
   "display_name": "Python 3",
   "language": "python",
   "name": "python3"
  },
  "language_info": {
   "codemirror_mode": {
    "name": "ipython",
    "version": 3
   },
   "file_extension": ".py",
   "mimetype": "text/x-python",
   "name": "python",
   "nbconvert_exporter": "python",
   "pygments_lexer": "ipython3",
   "version": "3.8.8"
  }
 },
 "nbformat": 4,
 "nbformat_minor": 5
}
